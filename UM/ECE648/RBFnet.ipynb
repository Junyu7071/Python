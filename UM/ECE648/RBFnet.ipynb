{
 "cells": [
  {
   "cell_type": "code",
   "execution_count": 66,
   "metadata": {},
   "outputs": [],
   "source": [
    "import pandas as pd\n",
    "import numpy as np\n",
    "import matplotlib.pyplot as plt\n",
    "from collections import Counter\n",
    "import math\n",
    "from sklearn import preprocessing"
   ]
  },
  {
   "cell_type": "code",
   "execution_count": 67,
   "metadata": {},
   "outputs": [],
   "source": [
    "def Normalize(data):\n",
    "    data = np.asanyarray(data, dtype=np.float64)\n",
    "    data = (data-data.mean(0)) / data.std(0)\n",
    "    return data\n",
    "\n",
    "class Data_split(object):\n",
    "    def __init__(self, data, cl = None, trainsize = 0.7, shuffle = True, randomstate = None, scaling = True):\n",
    "        \"\"\"Split arrays or matrices into random train and test subsets\n",
    "        \n",
    "        Parameters\n",
    "        ----------\n",
    "        data: data set input\n",
    "        \n",
    "        cl: the index of the column including the classes of every record \n",
    "            (default = the last column of data)\n",
    "            \n",
    "        trainsize: float, int or None, optional (default=0.7)\n",
    "            If float, should be between 0.0 and 1.0 and represent the proportion \n",
    "            of the dataset to include in the test split. If int, represents the\n",
    "            absolute number of test samples. If None, the value is set to the\n",
    "            complement of the train size. By default, the value is set to 0.25\n",
    "            \n",
    "        shuffle: \n",
    "            Whether or not to shuffle the data before splitting.\n",
    "                    \n",
    "        \"\"\"\n",
    "        np0 = data.shape\n",
    "        self.n = np0[0]\n",
    "        self.p = np0[1]\n",
    "        self.shuffle = shuffle\n",
    "        self.rs = randomstate\n",
    "        \n",
    "        if self.shuffle is True:\n",
    "            if self.rs is not None: \n",
    "                np.random.seed(self.rs)\n",
    "            self.data = np.random.permutation(data)\n",
    "        self.cl = self.p-1 if cl is None else cl\n",
    "        self.X = np.delete(self.data, self.cl, axis=1)\n",
    "        \n",
    "        if scaling is True:\n",
    "            self.X = Normalize(self.X)\n",
    "        self.Y = self.data[:, self.cl]\n",
    "        self.trainsize = trainsize\n",
    "        \n",
    "    def data_split(self):\n",
    "        \"\"\"\n",
    "        Returns: trainx, trainy, testx, testy\n",
    "        \"\"\"\n",
    "        if type(self.trainsize) == int:\n",
    "            self.trainsize = self.trainsize\n",
    "        elif type(self.trainsize)  == float or self.trainsize is None:\n",
    "            if self.trainsize <0 or self.trainsize>1:\n",
    "                raise ValueError(\"The proportion of training data should between 0.0 and 1.0\")\n",
    "            else:\n",
    "                self.trainsize = int(self.trainsize * self.n)\n",
    "        self.trainX = self.X[0:self.trainsize, :]\n",
    "        self.trainY = self.Y[0:self.trainsize]\n",
    "        self.testX = self.X[self.trainsize:, :]\n",
    "        self.testY = self.Y[self.trainsize:]\n",
    "        trainX = self.trainX\n",
    "        trainY = self.trainY\n",
    "        testX = self.testX\n",
    "        testY = self.testY\n",
    "        return trainX, trainY, testX, testY"
   ]
  },
  {
   "cell_type": "code",
   "execution_count": 75,
   "metadata": {},
   "outputs": [],
   "source": [
    "def y_t_transfer(data):\n",
    "    target = np.asanyarray(pd.get_dummies(data, prefix = 'class')*0.6 + 0.2)\n",
    "    return(target)\n",
    "\n",
    "class RBFNet(object):\n",
    "    \"\"\"Implementation of a Radial Basis Function Network\"\"\"\n",
    "    def __init__(self, trainx, trainy, testx, testy, lr=0.01, epochs=100, ncenter = None, randomstate = 648):\n",
    "        \n",
    "#         trainx, trainy, testx, testy = SData.data_split()\n",
    "        \n",
    "        self.t = y_t_transfer(trainy)\n",
    "        self.testt = y_t_transfer(testy)\n",
    "        \n",
    "        self.x = trainx\n",
    "        self.testx = testx\n",
    "        self.n = trainx.shape[0] # number of samples\n",
    "        self.ncl = self.t.shape[1] # number of class\n",
    "        self.lr = lr # learning rate\n",
    "        self.epochs = epochs\n",
    "        \n",
    "        # number of hidden neurons\n",
    "        if ncenter is None:\n",
    "            self.ncenter = self.n\n",
    "        else:\n",
    "            self.ncenter = ncenter\n",
    "            np.random.seed(randomstate)\n",
    "        \n",
    "        self.center = np.random.permutation(self.x)[0:self.ncenter, :]\n",
    "        \n",
    "        # initial weights\n",
    "        self.wold = 1/self.ncenter * np.ones((self.ncenter, self.ncl))\n",
    "        self.wnew = 1/self.ncenter * np.ones((self.ncenter, self.ncl))\n",
    "    \n",
    "    def fit(self):\n",
    "        phi = np.ones((self.n, self.ncenter))\n",
    "        for p in range(self.n):\n",
    "            for j in range(self.ncenter):\n",
    "                d = self.x[p, :] - self.center[j, :]\n",
    "                phi[p, j] = np.exp( - 0.5 * np.dot(d, np.transpose(d)) )\n",
    "                \n",
    "        wnew = self.wold\n",
    "        MSEnew = 1e10\n",
    "        for e in range(self.epochs):\n",
    "            Y = np.ones((self.n, self.ncl))\n",
    "            for p in range(self.n):\n",
    "                y = np.dot(phi[p, :], wnew)\n",
    "        #         if math.isinf(y[0]) or math.isinf(y[1]):\n",
    "        #             print(e,p,phi[p,:])\n",
    "        #             break\n",
    "                sigma =  y * (1-y) * (self.t[p,:] - y)\n",
    "                wold = wnew\n",
    "                wnew = wold + self.lr * np.dot(phi[p, :].reshape(self.ncenter,1), sigma.reshape(1,self.ncl))\n",
    "                if np.sum(wnew-wold < 1e-10) > 0.8*self.ncenter*self.ncl:\n",
    "                    break\n",
    "            e += 1\n",
    "            Y = np.dot(phi, wnew)\n",
    "            MSEold = MSEnew\n",
    "            MSEnew = (np.sum(np.square(self.t - Y))) / (self.ncl * self.n)\n",
    "            if MSEold-MSEnew < 1e-5:\n",
    "                break\n",
    "        self.wnew = wnew\n",
    "        return MSEnew\n",
    "    \n",
    "    def predict(self):\n",
    "        n = self.testx.shape[0]\n",
    "        phi = np.ones((n, self.ncenter))\n",
    "        for p in range(n):\n",
    "            for j in range(self.ncenter):\n",
    "                d = self.testx[p, :] - self.center[j, :]\n",
    "                phi[p, j] = np.exp( - 0.5 * np.dot(d, np.transpose(d)) )\n",
    "        Y = np.dot(phi, self.wnew)\n",
    "        MSE = (np.sum(np.square(self.testt - Y))) / (self.ncl * n)\n",
    "        return MSE\n",
    "    \n",
    "def MSE(SData, ncenter=None):\n",
    "    trainx, trainy, testx, testy = SData.data_split()\n",
    "    if ncenter is not None:\n",
    "        MSE= []\n",
    "        for i in ncenter:\n",
    "            nc = i\n",
    "            rbf = RBFNet(trainx, trainy, testx, testy, ncenter = nc)\n",
    "            MSE.append( [i, rbf.fit(), rbf.predict()] )\n",
    "    else:\n",
    "        rbf = RBFNet(trainx, trainy, testx, testy)\n",
    "        MSE = [rbf.fit(), rbf.predict()]\n",
    "    MSE = np.asanyarray(MSE)\n",
    "    return MSE"
   ]
  },
  {
   "cell_type": "markdown",
   "metadata": {},
   "source": [
    " "
   ]
  },
  {
   "cell_type": "markdown",
   "metadata": {},
   "source": [
    "For Q3:\n",
    "\n",
    "Use subsets (include 500 examples) of 3 datasets"
   ]
  },
  {
   "cell_type": "code",
   "execution_count": 76,
   "metadata": {},
   "outputs": [],
   "source": [
    "Nsub = 500"
   ]
  },
  {
   "cell_type": "markdown",
   "metadata": {},
   "source": [
    "For Q4:\n",
    "\n",
    "Number of centers equal to N"
   ]
  },
  {
   "cell_type": "code",
   "execution_count": 94,
   "metadata": {},
   "outputs": [
    {
     "data": {
      "text/plain": [
       "array([ 30,  60,  90, 120, 150, 180, 210, 240, 270, 300, 330, 360, 390,\n",
       "       420, 450, 480, 510, 540, 570, 600])"
      ]
     },
     "execution_count": 94,
     "metadata": {},
     "output_type": "execute_result"
    }
   ],
   "source": [
    "N = np.arange(30,630,30)\n",
    "N"
   ]
  },
  {
   "cell_type": "markdown",
   "metadata": {},
   "source": [
    "## Banknote"
   ]
  },
  {
   "cell_type": "code",
   "execution_count": 78,
   "metadata": {},
   "outputs": [
    {
     "data": {
      "text/html": [
       "<div>\n",
       "<style scoped>\n",
       "    .dataframe tbody tr th:only-of-type {\n",
       "        vertical-align: middle;\n",
       "    }\n",
       "\n",
       "    .dataframe tbody tr th {\n",
       "        vertical-align: top;\n",
       "    }\n",
       "\n",
       "    .dataframe thead th {\n",
       "        text-align: right;\n",
       "    }\n",
       "</style>\n",
       "<table border=\"1\" class=\"dataframe\">\n",
       "  <thead>\n",
       "    <tr style=\"text-align: right;\">\n",
       "      <th></th>\n",
       "      <th>var</th>\n",
       "      <th>skew</th>\n",
       "      <th>curt</th>\n",
       "      <th>entro</th>\n",
       "      <th>class</th>\n",
       "    </tr>\n",
       "  </thead>\n",
       "  <tbody>\n",
       "    <tr>\n",
       "      <th>0</th>\n",
       "      <td>3.62160</td>\n",
       "      <td>8.6661</td>\n",
       "      <td>-2.8073</td>\n",
       "      <td>-0.44699</td>\n",
       "      <td>0</td>\n",
       "    </tr>\n",
       "    <tr>\n",
       "      <th>1</th>\n",
       "      <td>4.54590</td>\n",
       "      <td>8.1674</td>\n",
       "      <td>-2.4586</td>\n",
       "      <td>-1.46210</td>\n",
       "      <td>0</td>\n",
       "    </tr>\n",
       "    <tr>\n",
       "      <th>2</th>\n",
       "      <td>3.86600</td>\n",
       "      <td>-2.6383</td>\n",
       "      <td>1.9242</td>\n",
       "      <td>0.10645</td>\n",
       "      <td>0</td>\n",
       "    </tr>\n",
       "    <tr>\n",
       "      <th>3</th>\n",
       "      <td>3.45660</td>\n",
       "      <td>9.5228</td>\n",
       "      <td>-4.0112</td>\n",
       "      <td>-3.59440</td>\n",
       "      <td>0</td>\n",
       "    </tr>\n",
       "    <tr>\n",
       "      <th>4</th>\n",
       "      <td>0.32924</td>\n",
       "      <td>-4.4552</td>\n",
       "      <td>4.5718</td>\n",
       "      <td>-0.98880</td>\n",
       "      <td>0</td>\n",
       "    </tr>\n",
       "  </tbody>\n",
       "</table>\n",
       "</div>"
      ],
      "text/plain": [
       "       var    skew    curt    entro  class\n",
       "0  3.62160  8.6661 -2.8073 -0.44699      0\n",
       "1  4.54590  8.1674 -2.4586 -1.46210      0\n",
       "2  3.86600 -2.6383  1.9242  0.10645      0\n",
       "3  3.45660  9.5228 -4.0112 -3.59440      0\n",
       "4  0.32924 -4.4552  4.5718 -0.98880      0"
      ]
     },
     "execution_count": 78,
     "metadata": {},
     "output_type": "execute_result"
    }
   ],
   "source": [
    "bank = pd.read_csv('banknote.txt', header = None,\n",
    "                  names = ['var', 'skew', 'curt', 'entro', 'class'])\n",
    "bank.head()"
   ]
  },
  {
   "cell_type": "code",
   "execution_count": 79,
   "metadata": {},
   "outputs": [
    {
     "data": {
      "text/plain": [
       "(1372, 5)"
      ]
     },
     "execution_count": 79,
     "metadata": {},
     "output_type": "execute_result"
    }
   ],
   "source": [
    "bank = np.asanyarray(bank)\n",
    "bank.shape"
   ]
  },
  {
   "cell_type": "code",
   "execution_count": 80,
   "metadata": {
    "scrolled": false
   },
   "outputs": [],
   "source": [
    "np.random.seed(648)\n",
    "banksub = np.random.permutation(bank)[0:(Nsub-1),:]\n",
    "bksub = Data_split(banksub, cl=4, randomstate = 648)"
   ]
  },
  {
   "cell_type": "code",
   "execution_count": 81,
   "metadata": {
    "scrolled": true
   },
   "outputs": [
    {
     "name": "stdout",
     "output_type": "stream",
     "text": [
      "Wall time: 3.17 s\n"
     ]
    },
    {
     "data": {
      "text/plain": [
       "array([0.06458095, 0.06472959])"
      ]
     },
     "execution_count": 81,
     "metadata": {},
     "output_type": "execute_result"
    }
   ],
   "source": [
    "%%time\n",
    "MSE(bksub) # 1st: mse on train; 2nd: mse on test"
   ]
  },
  {
   "cell_type": "code",
   "execution_count": 30,
   "metadata": {
    "scrolled": false
   },
   "outputs": [
    {
     "name": "stdout",
     "output_type": "stream",
     "text": [
      "Wall time: 2min 58s\n"
     ]
    }
   ],
   "source": [
    "bk = Data_split(bank, cl=4, randomstate = 648)\n",
    "mse = MSE(bk, ncenter = N)"
   ]
  },
  {
   "cell_type": "code",
   "execution_count": 82,
   "metadata": {},
   "outputs": [
    {
     "data": {
      "image/png": "[encoded data removed]",
      "text/plain": [
       "<Figure size 432x288 with 1 Axes>"
      ]
     },
     "metadata": {
      "needs_background": "light"
     },
     "output_type": "display_data"
    }
   ],
   "source": [
    "plt.plot(mse[:, 0], mse[:, 1], color='red', label='MSE on training data')\n",
    "plt.plot(mse[:, 0], mse[:, 2], color = 'green', label = 'MSE on testing data')\n",
    "# plt.vlines(11, 0, 0.1, colors = \"orange\", linestyles = \"dashed\")\n",
    "plt.xlabel('Number of centers N')\n",
    "plt.ylabel('MSE')\n",
    "plt.legend(loc = 3)\n",
    "plt.show()"
   ]
  },
  {
   "cell_type": "code",
   "execution_count": null,
   "metadata": {},
   "outputs": [],
   "source": []
  },
  {
   "cell_type": "markdown",
   "metadata": {},
   "source": [
    "## Yeast"
   ]
  },
  {
   "cell_type": "code",
   "execution_count": 83,
   "metadata": {
    "scrolled": true
   },
   "outputs": [
    {
     "data": {
      "text/html": [
       "<div>\n",
       "<style scoped>\n",
       "    .dataframe tbody tr th:only-of-type {\n",
       "        vertical-align: middle;\n",
       "    }\n",
       "\n",
       "    .dataframe tbody tr th {\n",
       "        vertical-align: top;\n",
       "    }\n",
       "\n",
       "    .dataframe thead th {\n",
       "        text-align: right;\n",
       "    }\n",
       "</style>\n",
       "<table border=\"1\" class=\"dataframe\">\n",
       "  <thead>\n",
       "    <tr style=\"text-align: right;\">\n",
       "      <th></th>\n",
       "      <th>name</th>\n",
       "      <th>mcg</th>\n",
       "      <th>gvh</th>\n",
       "      <th>alm</th>\n",
       "      <th>mit</th>\n",
       "      <th>erl</th>\n",
       "      <th>pox</th>\n",
       "      <th>vac</th>\n",
       "      <th>nuc</th>\n",
       "      <th>class</th>\n",
       "    </tr>\n",
       "  </thead>\n",
       "  <tbody>\n",
       "    <tr>\n",
       "      <th>0</th>\n",
       "      <td>ADT1_YEAST</td>\n",
       "      <td>0.58</td>\n",
       "      <td>0.61</td>\n",
       "      <td>0.47</td>\n",
       "      <td>0.13</td>\n",
       "      <td>0.5</td>\n",
       "      <td>0.0</td>\n",
       "      <td>0.48</td>\n",
       "      <td>0.22</td>\n",
       "      <td>MIT</td>\n",
       "    </tr>\n",
       "    <tr>\n",
       "      <th>1</th>\n",
       "      <td>ADT2_YEAST</td>\n",
       "      <td>0.43</td>\n",
       "      <td>0.67</td>\n",
       "      <td>0.48</td>\n",
       "      <td>0.27</td>\n",
       "      <td>0.5</td>\n",
       "      <td>0.0</td>\n",
       "      <td>0.53</td>\n",
       "      <td>0.22</td>\n",
       "      <td>MIT</td>\n",
       "    </tr>\n",
       "    <tr>\n",
       "      <th>2</th>\n",
       "      <td>ADT3_YEAST</td>\n",
       "      <td>0.64</td>\n",
       "      <td>0.62</td>\n",
       "      <td>0.49</td>\n",
       "      <td>0.15</td>\n",
       "      <td>0.5</td>\n",
       "      <td>0.0</td>\n",
       "      <td>0.53</td>\n",
       "      <td>0.22</td>\n",
       "      <td>MIT</td>\n",
       "    </tr>\n",
       "    <tr>\n",
       "      <th>3</th>\n",
       "      <td>AAR2_YEAST</td>\n",
       "      <td>0.58</td>\n",
       "      <td>0.44</td>\n",
       "      <td>0.57</td>\n",
       "      <td>0.13</td>\n",
       "      <td>0.5</td>\n",
       "      <td>0.0</td>\n",
       "      <td>0.54</td>\n",
       "      <td>0.22</td>\n",
       "      <td>NUC</td>\n",
       "    </tr>\n",
       "    <tr>\n",
       "      <th>4</th>\n",
       "      <td>AATM_YEAST</td>\n",
       "      <td>0.42</td>\n",
       "      <td>0.44</td>\n",
       "      <td>0.48</td>\n",
       "      <td>0.54</td>\n",
       "      <td>0.5</td>\n",
       "      <td>0.0</td>\n",
       "      <td>0.48</td>\n",
       "      <td>0.22</td>\n",
       "      <td>MIT</td>\n",
       "    </tr>\n",
       "  </tbody>\n",
       "</table>\n",
       "</div>"
      ],
      "text/plain": [
       "         name   mcg   gvh   alm   mit  erl  pox   vac   nuc class\n",
       "0  ADT1_YEAST  0.58  0.61  0.47  0.13  0.5  0.0  0.48  0.22   MIT\n",
       "1  ADT2_YEAST  0.43  0.67  0.48  0.27  0.5  0.0  0.53  0.22   MIT\n",
       "2  ADT3_YEAST  0.64  0.62  0.49  0.15  0.5  0.0  0.53  0.22   MIT\n",
       "3  AAR2_YEAST  0.58  0.44  0.57  0.13  0.5  0.0  0.54  0.22   NUC\n",
       "4  AATM_YEAST  0.42  0.44  0.48  0.54  0.5  0.0  0.48  0.22   MIT"
      ]
     },
     "execution_count": 83,
     "metadata": {},
     "output_type": "execute_result"
    }
   ],
   "source": [
    "yeast = pd.read_csv('yeast.csv', header = None,\n",
    "                  names = ['name', 'mcg', 'gvh', 'alm', 'mit', 'erl',\n",
    "                           'pox', 'vac', 'nuc', 'class'])\n",
    "yeast.head()"
   ]
  },
  {
   "cell_type": "code",
   "execution_count": 84,
   "metadata": {},
   "outputs": [
    {
     "data": {
      "text/html": [
       "<div>\n",
       "<style scoped>\n",
       "    .dataframe tbody tr th:only-of-type {\n",
       "        vertical-align: middle;\n",
       "    }\n",
       "\n",
       "    .dataframe tbody tr th {\n",
       "        vertical-align: top;\n",
       "    }\n",
       "\n",
       "    .dataframe thead th {\n",
       "        text-align: right;\n",
       "    }\n",
       "</style>\n",
       "<table border=\"1\" class=\"dataframe\">\n",
       "  <thead>\n",
       "    <tr style=\"text-align: right;\">\n",
       "      <th></th>\n",
       "      <th>mcg</th>\n",
       "      <th>gvh</th>\n",
       "      <th>alm</th>\n",
       "      <th>mit</th>\n",
       "      <th>erl</th>\n",
       "      <th>pox</th>\n",
       "      <th>vac</th>\n",
       "      <th>nuc</th>\n",
       "      <th>class</th>\n",
       "    </tr>\n",
       "  </thead>\n",
       "  <tbody>\n",
       "    <tr>\n",
       "      <th>0</th>\n",
       "      <td>0.58</td>\n",
       "      <td>0.61</td>\n",
       "      <td>0.47</td>\n",
       "      <td>0.13</td>\n",
       "      <td>0.5</td>\n",
       "      <td>0.0</td>\n",
       "      <td>0.48</td>\n",
       "      <td>0.22</td>\n",
       "      <td>MIT</td>\n",
       "    </tr>\n",
       "    <tr>\n",
       "      <th>1</th>\n",
       "      <td>0.43</td>\n",
       "      <td>0.67</td>\n",
       "      <td>0.48</td>\n",
       "      <td>0.27</td>\n",
       "      <td>0.5</td>\n",
       "      <td>0.0</td>\n",
       "      <td>0.53</td>\n",
       "      <td>0.22</td>\n",
       "      <td>MIT</td>\n",
       "    </tr>\n",
       "    <tr>\n",
       "      <th>2</th>\n",
       "      <td>0.64</td>\n",
       "      <td>0.62</td>\n",
       "      <td>0.49</td>\n",
       "      <td>0.15</td>\n",
       "      <td>0.5</td>\n",
       "      <td>0.0</td>\n",
       "      <td>0.53</td>\n",
       "      <td>0.22</td>\n",
       "      <td>MIT</td>\n",
       "    </tr>\n",
       "    <tr>\n",
       "      <th>3</th>\n",
       "      <td>0.58</td>\n",
       "      <td>0.44</td>\n",
       "      <td>0.57</td>\n",
       "      <td>0.13</td>\n",
       "      <td>0.5</td>\n",
       "      <td>0.0</td>\n",
       "      <td>0.54</td>\n",
       "      <td>0.22</td>\n",
       "      <td>NUC</td>\n",
       "    </tr>\n",
       "    <tr>\n",
       "      <th>4</th>\n",
       "      <td>0.42</td>\n",
       "      <td>0.44</td>\n",
       "      <td>0.48</td>\n",
       "      <td>0.54</td>\n",
       "      <td>0.5</td>\n",
       "      <td>0.0</td>\n",
       "      <td>0.48</td>\n",
       "      <td>0.22</td>\n",
       "      <td>MIT</td>\n",
       "    </tr>\n",
       "  </tbody>\n",
       "</table>\n",
       "</div>"
      ],
      "text/plain": [
       "    mcg   gvh   alm   mit  erl  pox   vac   nuc class\n",
       "0  0.58  0.61  0.47  0.13  0.5  0.0  0.48  0.22   MIT\n",
       "1  0.43  0.67  0.48  0.27  0.5  0.0  0.53  0.22   MIT\n",
       "2  0.64  0.62  0.49  0.15  0.5  0.0  0.53  0.22   MIT\n",
       "3  0.58  0.44  0.57  0.13  0.5  0.0  0.54  0.22   NUC\n",
       "4  0.42  0.44  0.48  0.54  0.5  0.0  0.48  0.22   MIT"
      ]
     },
     "execution_count": 84,
     "metadata": {},
     "output_type": "execute_result"
    }
   ],
   "source": [
    "yst = yeast.drop('name',1)\n",
    "yst.head()"
   ]
  },
  {
   "cell_type": "code",
   "execution_count": 85,
   "metadata": {},
   "outputs": [
    {
     "data": {
      "text/plain": [
       "(1484, 9)"
      ]
     },
     "execution_count": 85,
     "metadata": {},
     "output_type": "execute_result"
    }
   ],
   "source": [
    "yst = np.asanyarray(yst)\n",
    "yst.shape # (1372, 5)"
   ]
  },
  {
   "cell_type": "code",
   "execution_count": 86,
   "metadata": {
    "scrolled": false
   },
   "outputs": [
    {
     "data": {
      "text/plain": [
       "array([0.06034318, 0.05838818])"
      ]
     },
     "execution_count": 86,
     "metadata": {},
     "output_type": "execute_result"
    }
   ],
   "source": [
    "np.random.seed(641) # this random seed can not be changed\n",
    "ystsub = np.random.permutation(yst)[0:(Nsub-1),:]\n",
    "ytsub = Data_split(ystsub, randomstate = 648)\n",
    "\n",
    "MSE(ytsub) # 1st: mse on train; 2nd: mse on test"
   ]
  },
  {
   "cell_type": "code",
   "execution_count": 87,
   "metadata": {
    "scrolled": true
   },
   "outputs": [],
   "source": [
    "%%time\n",
    "yt = Data_split(yst, randomstate = 648)\n",
    "mse = MSE(yt, ncenter = N)"
   ]
  },
  {
   "cell_type": "code",
   "execution_count": 91,
   "metadata": {},
   "outputs": [
    {
     "data": {
      "image/png": "[encoded data removed]",
      "text/plain": [
       "<Figure size 432x288 with 1 Axes>"
      ]
     },
     "metadata": {
      "needs_background": "light"
     },
     "output_type": "display_data"
    }
   ],
   "source": [
    "plt.plot(mse[:, 0], mse[:, 1], color='red', label='MSE on training data')\n",
    "plt.plot(mse[:, 0], mse[:, 2], color = 'green', label = 'MSE on testing data')\n",
    "# plt.vlines(11, 0, 0.1, colors = \"orange\", linestyles = \"dashed\")\n",
    "plt.xlabel('Number of centers N')\n",
    "plt.ylabel('MSE')\n",
    "plt.legend(loc = 4)\n",
    "plt.show()"
   ]
  },
  {
   "cell_type": "code",
   "execution_count": null,
   "metadata": {},
   "outputs": [],
   "source": []
  }
 ],
 "metadata": {
  "kernelspec": {
   "display_name": "Python 3",
   "language": "python",
   "name": "python3"
  },
  "language_info": {
   "codemirror_mode": {
    "name": "ipython",
    "version": 3
   },
   "file_extension": ".py",
   "mimetype": "text/x-python",
   "name": "python",
   "nbconvert_exporter": "python",
   "pygments_lexer": "ipython3",
   "version": "3.7.1"
  }
 },
 "nbformat": 4,
 "nbformat_minor": 2
}
